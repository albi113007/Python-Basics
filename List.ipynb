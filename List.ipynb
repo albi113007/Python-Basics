{
  "nbformat": 4,
  "nbformat_minor": 0,
  "metadata": {
    "colab": {
      "provenance": [],
      "authorship_tag": "ABX9TyO2JJqRA0LVbwzQctIuq+10",
      "include_colab_link": true
    },
    "kernelspec": {
      "name": "python3",
      "display_name": "Python 3"
    },
    "language_info": {
      "name": "python"
    }
  },
  "cells": [
    {
      "cell_type": "markdown",
      "metadata": {
        "id": "view-in-github",
        "colab_type": "text"
      },
      "source": [
        "<a href=\"https://colab.research.google.com/github/albi113007/Python-Basics/blob/main/List.ipynb\" target=\"_parent\"><img src=\"https://colab.research.google.com/assets/colab-badge.svg\" alt=\"Open In Colab\"/></a>"
      ]
    },
    {
      "cell_type": "code",
      "execution_count": 7,
      "metadata": {
        "id": "iydsxWOhhMIK"
      },
      "outputs": [],
      "source": [
        "x=[1,2,3,4,5,6,7,8,9,10]"
      ]
    },
    {
      "cell_type": "code",
      "source": [
        "type(x)"
      ],
      "metadata": {
        "colab": {
          "base_uri": "https://localhost:8080/"
        },
        "id": "QZsP8IjThaP9",
        "outputId": "5129bd3b-762c-4097-c9a7-1cc5f16108b0"
      },
      "execution_count": 8,
      "outputs": [
        {
          "output_type": "execute_result",
          "data": {
            "text/plain": [
              "list"
            ]
          },
          "metadata": {},
          "execution_count": 8
        }
      ]
    },
    {
      "cell_type": "code",
      "source": [
        "x[6:]"
      ],
      "metadata": {
        "colab": {
          "base_uri": "https://localhost:8080/"
        },
        "id": "o2PVgeMMhi3N",
        "outputId": "541bbd9d-6138-48b8-f123-10961e89c1f9"
      },
      "execution_count": 9,
      "outputs": [
        {
          "output_type": "execute_result",
          "data": {
            "text/plain": [
              "[7, 8, 9, 10]"
            ]
          },
          "metadata": {},
          "execution_count": 9
        }
      ]
    },
    {
      "cell_type": "code",
      "source": [
        "x=[1,5,77,45,87,99,33,75,89,00]"
      ],
      "metadata": {
        "id": "mmsVy8kWh8SM"
      },
      "execution_count": 10,
      "outputs": []
    },
    {
      "cell_type": "code",
      "source": [
        "x.sort()"
      ],
      "metadata": {
        "id": "BHV3ctVikEeo"
      },
      "execution_count": 11,
      "outputs": []
    },
    {
      "cell_type": "code",
      "source": [
        "print(x)"
      ],
      "metadata": {
        "colab": {
          "base_uri": "https://localhost:8080/"
        },
        "id": "mEHHw8FLk6zP",
        "outputId": "f7e12d44-baa5-4c6d-dee6-3561bc7a4805"
      },
      "execution_count": 12,
      "outputs": [
        {
          "output_type": "stream",
          "name": "stdout",
          "text": [
            "[0, 1, 5, 33, 45, 75, 77, 87, 89, 99]\n"
          ]
        }
      ]
    },
    {
      "cell_type": "code",
      "source": [
        "x=['sonal','meenakshi','santhra','sincy','jifna']\n",
        "x.sort()\n",
        "print(x)\n",
        "\n"
      ],
      "metadata": {
        "colab": {
          "base_uri": "https://localhost:8080/"
        },
        "id": "HBlHOCVHk_f_",
        "outputId": "cecb7573-0e69-4359-dfa5-ff54646cd050"
      },
      "execution_count": 15,
      "outputs": [
        {
          "output_type": "stream",
          "name": "stdout",
          "text": [
            "['jifna', 'meenakshi', 'santhra', 'sincy', 'sonal']\n"
          ]
        }
      ]
    },
    {
      "cell_type": "code",
      "source": [
        "x"
      ],
      "metadata": {
        "colab": {
          "base_uri": "https://localhost:8080/"
        },
        "id": "ZJuI16yCnw3v",
        "outputId": "bf0d56a4-aa96-4fc7-ef9e-7bd4286c41e8"
      },
      "execution_count": 16,
      "outputs": [
        {
          "output_type": "execute_result",
          "data": {
            "text/plain": [
              "['jifna', 'meenakshi', 'santhra', 'sincy', 'sonal']"
            ]
          },
          "metadata": {},
          "execution_count": 16
        }
      ]
    },
    {
      "cell_type": "code",
      "source": [
        "x.append(\"mrithul\")"
      ],
      "metadata": {
        "id": "be2p3vxdn4G2"
      },
      "execution_count": 17,
      "outputs": []
    },
    {
      "cell_type": "code",
      "source": [
        "x"
      ],
      "metadata": {
        "colab": {
          "base_uri": "https://localhost:8080/"
        },
        "id": "5vE4Q5oIoIKm",
        "outputId": "aee95bb5-8d4c-44a4-de87-19d588922c15"
      },
      "execution_count": 18,
      "outputs": [
        {
          "output_type": "execute_result",
          "data": {
            "text/plain": [
              "['jifna', 'meenakshi', 'santhra', 'sincy', 'sonal', 'mrithul']"
            ]
          },
          "metadata": {},
          "execution_count": 18
        }
      ]
    },
    {
      "cell_type": "code",
      "source": [
        "x[0]='sahrdaya'"
      ],
      "metadata": {
        "id": "bdnYtqhwoMPW"
      },
      "execution_count": 19,
      "outputs": []
    },
    {
      "cell_type": "code",
      "source": [
        "x"
      ],
      "metadata": {
        "colab": {
          "base_uri": "https://localhost:8080/"
        },
        "id": "FWFnBkeIoWj-",
        "outputId": "4dc1f82f-3b60-4642-e2f4-8a4adaa139dc"
      },
      "execution_count": 20,
      "outputs": [
        {
          "output_type": "execute_result",
          "data": {
            "text/plain": [
              "['sahrdaya', 'meenakshi', 'santhra', 'sincy', 'sonal', 'mrithul']"
            ]
          },
          "metadata": {},
          "execution_count": 20
        }
      ]
    },
    {
      "cell_type": "code",
      "source": [
        "x.insert(3,'babu')\n",
        "print(x)\n"
      ],
      "metadata": {
        "colab": {
          "base_uri": "https://localhost:8080/"
        },
        "id": "Ux9Osi-9of4u",
        "outputId": "f67a1dc2-784f-4fab-fc1f-f7fac245bcb0"
      },
      "execution_count": 27,
      "outputs": [
        {
          "output_type": "stream",
          "name": "stdout",
          "text": [
            "['sahrdaya', 'meenakshi', 'santhra', 'babu', 'babu', 4, 'sincy', 'sonal', 'mrithul']\n"
          ]
        }
      ]
    },
    {
      "cell_type": "code",
      "source": [],
      "metadata": {
        "id": "j1kWolhupsC-"
      },
      "execution_count": null,
      "outputs": []
    }
  ]
}